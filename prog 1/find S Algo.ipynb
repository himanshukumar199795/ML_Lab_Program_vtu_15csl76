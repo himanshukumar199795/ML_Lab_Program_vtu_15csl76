{
 "cells": [
  {
   "cell_type": "code",
   "execution_count": 1,
   "metadata": {},
   "outputs": [],
   "source": [
    "import csv"
   ]
  },
  {
   "cell_type": "code",
   "execution_count": 2,
   "metadata": {},
   "outputs": [],
   "source": [
    "with open('P1_data.csv','r') as file:\n",
    "    reader=csv.reader(file)\n",
    "    header=next(reader)\n",
    "    a=list(reader)"
   ]
  },
  {
   "cell_type": "code",
   "execution_count": 3,
   "metadata": {},
   "outputs": [
    {
     "name": "stdout",
     "output_type": "stream",
     "text": [
      "[\"'Sunny'\", \" 'Warm'\", \" 'Normal'\", \" 'Strong'\", \" 'Warm'\", \" 'Same'\", 'TRUE']\n",
      "[\"'Sunny'\", \" 'Warm'\", \" 'High'\", \" 'Strong'\", \" 'Warm'\", \" 'Same'\", 'TRUE']\n",
      "[\"'Rainy'\", \" 'Cold'\", \" 'High'\", \" 'Strong'\", \" 'Warm'\", \" 'Change'\", 'FALSE']\n",
      "[\"'Sunny'\", \" 'Warm'\", \" 'High'\", \" 'Strong'\", \" 'Cool'\", \" 'Change'\", 'TRUE']\n",
      "[\"'Sunny'\", \" 'Warm'\", '?', \" 'Strong'\", '?', '?']\n"
     ]
    }
   ],
   "source": [
    "h=['0']*6\n",
    "for i in a:\n",
    "    print(i)\n",
    "    if i[-1]=='TRUE':\n",
    "        j=0\n",
    "        for x in i:\n",
    "            if x!='TRUE':\n",
    "                if x!=h[j] and h[j]=='0':\n",
    "                    h[j]=x\n",
    "                elif x!=h[j] and h[j]!='0':\n",
    "                    h[j]='?'\n",
    "                else:\n",
    "                    pass\n",
    "            j=j+1\n",
    "print(h)"
   ]
  },
  {
   "cell_type": "code",
   "execution_count": null,
   "metadata": {},
   "outputs": [],
   "source": []
  }
 ],
 "metadata": {
  "kernelspec": {
   "display_name": "Python 3",
   "language": "python",
   "name": "python3"
  },
  "language_info": {
   "codemirror_mode": {
    "name": "ipython",
    "version": 3
   },
   "file_extension": ".py",
   "mimetype": "text/x-python",
   "name": "python",
   "nbconvert_exporter": "python",
   "pygments_lexer": "ipython3",
   "version": "3.6.8"
  }
 },
 "nbformat": 4,
 "nbformat_minor": 2
}
