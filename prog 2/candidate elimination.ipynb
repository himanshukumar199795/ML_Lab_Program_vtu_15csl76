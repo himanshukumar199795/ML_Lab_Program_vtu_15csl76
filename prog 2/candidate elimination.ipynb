{
 "cells": [
  {
   "cell_type": "code",
   "execution_count": 1,
   "metadata": {},
   "outputs": [],
   "source": [
    "import csv"
   ]
  },
  {
   "cell_type": "code",
   "execution_count": 2,
   "metadata": {},
   "outputs": [
    {
     "name": "stdout",
     "output_type": "stream",
     "text": [
      "S1   ['sunny', 'warm', 'normal', 'strong', 'warm', 'same']\n",
      "G1  ['?', '?', '?', '?', '?', '?']\n",
      "S2   ['sunny', 'warm', '?', 'strong', 'warm', 'same']\n",
      "G2  ['?', '?', '?', '?', '?', '?']\n",
      "S3  ['sunny', 'warm', '?', 'strong', 'warm', 'same']\n",
      "G3 [['sunny', '?', '?', '?', '?', '?'], ['?', 'warm', '?', '?', '?', '?'], ['?', '?', '?', '?', '?', 'same']]\n",
      "S4   ['sunny', 'warm', '?', 'strong', '?', '?']\n",
      "G4  [['sunny', '?', '?', '?', '?', '?'], ['?', 'warm', '?', '?', '?', '?']]\n"
     ]
    }
   ],
   "source": [
    "a=[]\n",
    "with open('P2_dataset1.txt', 'r') as csvFile:\n",
    "    reader = csv.reader(csvFile)\n",
    "    a=list(reader)\n",
    "    \n",
    "na=len(a[0])-1\n",
    "s=[0]*na\n",
    "g=['?']*na\n",
    "\n",
    "for j in range(na):\n",
    "    s[j]=a[0][j]\n",
    "\n",
    "temp=[]\n",
    "\n",
    "for i in range(len(a)):\n",
    "    if a[i][na]=='Y':\n",
    "        for j in range(na):\n",
    "            for k  in range(len(temp)):\n",
    "                if temp[k][j] != '?' and temp[k][j] != s[j]:\n",
    "                    del temp[k]\n",
    "                    \n",
    "        \n",
    "        for j in range(na):\n",
    "            if a[i][j]!=s[j]:\n",
    "                s[j]='?'\n",
    "                \n",
    "        print(\"S{0}  \".format(i+1),s)\n",
    "\n",
    "        if (len(temp)==0):\n",
    "            print(\"G{0} \".format(i+1),g)\n",
    "        else:\n",
    "            print(\"G{0} \".format(i+1),temp)\n",
    "            \n",
    "    if a[i][na]=='N': \n",
    "        for j in range(na):\n",
    "             if s[j] != a[i][j] and s[j]!= '?': \n",
    "                    g[j]=s[j]\n",
    "                    temp.append(g) \n",
    "                    g = ['?'] * na\n",
    "\n",
    "        print(\"S{0} \".format(i+1),s)\n",
    "        print(\"G{0}\".format(i+1),temp)"
   ]
  },
  {
   "cell_type": "code",
   "execution_count": null,
   "metadata": {},
   "outputs": [],
   "source": []
  }
 ],
 "metadata": {
  "kernelspec": {
   "display_name": "Python 3",
   "language": "python",
   "name": "python3"
  },
  "language_info": {
   "codemirror_mode": {
    "name": "ipython",
    "version": 3
   },
   "file_extension": ".py",
   "mimetype": "text/x-python",
   "name": "python",
   "nbconvert_exporter": "python",
   "pygments_lexer": "ipython3",
   "version": "3.6.8"
  }
 },
 "nbformat": 4,
 "nbformat_minor": 2
}
