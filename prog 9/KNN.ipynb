{
 "cells": [
  {
   "cell_type": "code",
   "execution_count": 4,
   "metadata": {},
   "outputs": [
    {
     "name": "stdout",
     "output_type": "stream",
     "text": [
      "[1 2 1 0 0 2 1 0 1 2 1 1 0 1 2 1 2 0 0 0 0 0 2 0 0 0 2 2 0 2 1 1 0 2 2 0 2\n",
      " 1]\n"
     ]
    }
   ],
   "source": [
    "import pandas as pd\n",
    "from sklearn import datasets\n",
    "\n",
    "iris=datasets.load_iris()\n",
    "x=iris.data\n",
    "y=iris.target\n",
    "\n",
    "from sklearn.model_selection import train_test_split\n",
    "xtrain,xtest,ytrain,ytest = train_test_split(x,y)\n",
    "\n",
    "from sklearn.neighbors import KNeighborsClassifier\n",
    "clf=KNeighborsClassifier(n_neighbors=3)\n",
    "clf.fit(xtrain,ytrain)\n",
    "pred=clf.predict(xtest)\n",
    "\n",
    "print(pred)"
   ]
  },
  {
   "cell_type": "code",
   "execution_count": 8,
   "metadata": {},
   "outputs": [
    {
     "name": "stdout",
     "output_type": "stream",
     "text": [
      "Results of Classification using K-nn with K=3 \n",
      " Sample: [6.7 3.  5.  1.7]  Actual-label: 1  Predicted-label: 1\n",
      " Sample: [6.  2.7 5.1 1.6]  Actual-label: 1  Predicted-label: 2\n",
      " Sample: [6.  2.2 4.  1. ]  Actual-label: 1  Predicted-label: 1\n",
      " Sample: [5.4 3.7 1.5 0.2]  Actual-label: 0  Predicted-label: 0\n",
      " Sample: [5.  3.4 1.6 0.4]  Actual-label: 0  Predicted-label: 0\n",
      " Sample: [7.2 3.6 6.1 2.5]  Actual-label: 2  Predicted-label: 2\n",
      " Sample: [5.5 2.4 3.7 1. ]  Actual-label: 1  Predicted-label: 1\n",
      " Sample: [5.1 3.4 1.5 0.2]  Actual-label: 0  Predicted-label: 0\n",
      " Sample: [6.  2.2 5.  1.5]  Actual-label: 2  Predicted-label: 1\n",
      " Sample: [6.9 3.2 5.7 2.3]  Actual-label: 2  Predicted-label: 2\n",
      " Sample: [6.6 3.  4.4 1.4]  Actual-label: 1  Predicted-label: 1\n",
      " Sample: [6.1 2.8 4.7 1.2]  Actual-label: 1  Predicted-label: 1\n",
      " Sample: [5.1 3.3 1.7 0.5]  Actual-label: 0  Predicted-label: 0\n",
      " Sample: [5.7 2.6 3.5 1. ]  Actual-label: 1  Predicted-label: 1\n",
      " Sample: [7.3 2.9 6.3 1.8]  Actual-label: 2  Predicted-label: 2\n",
      " Sample: [5.2 2.7 3.9 1.4]  Actual-label: 1  Predicted-label: 1\n",
      " Sample: [6.4 2.8 5.6 2.2]  Actual-label: 2  Predicted-label: 2\n",
      " Sample: [5.3 3.7 1.5 0.2]  Actual-label: 0  Predicted-label: 0\n",
      " Sample: [4.9 3.1 1.5 0.1]  Actual-label: 0  Predicted-label: 0\n",
      " Sample: [4.8 3.4 1.9 0.2]  Actual-label: 0  Predicted-label: 0\n",
      " Sample: [4.3 3.  1.1 0.1]  Actual-label: 0  Predicted-label: 0\n",
      " Sample: [5.2 3.5 1.5 0.2]  Actual-label: 0  Predicted-label: 0\n",
      " Sample: [7.7 2.6 6.9 2.3]  Actual-label: 2  Predicted-label: 2\n",
      " Sample: [5.  3.4 1.5 0.2]  Actual-label: 0  Predicted-label: 0\n",
      " Sample: [5.4 3.9 1.3 0.4]  Actual-label: 0  Predicted-label: 0\n",
      " Sample: [5.  3.5 1.6 0.6]  Actual-label: 0  Predicted-label: 0\n",
      " Sample: [7.6 3.  6.6 2.1]  Actual-label: 2  Predicted-label: 2\n",
      " Sample: [6.4 3.2 5.3 2.3]  Actual-label: 2  Predicted-label: 2\n",
      " Sample: [4.7 3.2 1.6 0.2]  Actual-label: 0  Predicted-label: 0\n",
      " Sample: [6.4 2.7 5.3 1.9]  Actual-label: 2  Predicted-label: 2\n",
      " Sample: [5.1 2.5 3.  1.1]  Actual-label: 1  Predicted-label: 1\n",
      " Sample: [5.5 2.3 4.  1.3]  Actual-label: 1  Predicted-label: 1\n",
      " Sample: [4.6 3.6 1.  0.2]  Actual-label: 0  Predicted-label: 0\n",
      " Sample: [7.4 2.8 6.1 1.9]  Actual-label: 2  Predicted-label: 2\n",
      " Sample: [6.2 3.4 5.4 2.3]  Actual-label: 2  Predicted-label: 2\n",
      " Sample: [5.7 4.4 1.5 0.4]  Actual-label: 0  Predicted-label: 0\n",
      " Sample: [7.7 2.8 6.7 2. ]  Actual-label: 2  Predicted-label: 2\n",
      " Sample: [6.7 3.1 4.4 1.4]  Actual-label: 1  Predicted-label: 1\n",
      "Classification Accuracy : 0.9473684210526315\n",
      "Confusion Matrix\n",
      "[[15  0  0]\n",
      " [ 0 10  1]\n",
      " [ 0  1 11]]\n",
      "Accuracy Metrics\n",
      "              precision    recall  f1-score   support\n",
      "\n",
      "           0       1.00      1.00      1.00        15\n",
      "           1       0.91      0.91      0.91        11\n",
      "           2       0.92      0.92      0.92        12\n",
      "\n",
      "    accuracy                           0.95        38\n",
      "   macro avg       0.94      0.94      0.94        38\n",
      "weighted avg       0.95      0.95      0.95        38\n",
      "\n"
     ]
    }
   ],
   "source": [
    "# Display the results\n",
    "print(\"Results of Classification using K-nn with K=3 \")\n",
    "for r in range(0,len(xtest)):\n",
    "    print(\" Sample:\", str(xtest[r]), \" Actual-label:\", str(ytest[r]), \" Predicted-label:\",\n",
    "str(pred[r]))\n",
    "print(\"Classification Accuracy :\" , clf.score(xtest,ytest));\n",
    "\n",
    "from sklearn.metrics import classification_report, confusion_matrix\n",
    "print('Confusion Matrix')\n",
    "print(confusion_matrix(ytest,pred))\n",
    "print('Accuracy Metrics')\n",
    "print(classification_report(ytest,pred))"
   ]
  },
  {
   "cell_type": "code",
   "execution_count": null,
   "metadata": {},
   "outputs": [],
   "source": []
  }
 ],
 "metadata": {
  "kernelspec": {
   "display_name": "Python 3",
   "language": "python",
   "name": "python3"
  },
  "language_info": {
   "codemirror_mode": {
    "name": "ipython",
    "version": 3
   },
   "file_extension": ".py",
   "mimetype": "text/x-python",
   "name": "python",
   "nbconvert_exporter": "python",
   "pygments_lexer": "ipython3",
   "version": "3.7.0"
  }
 },
 "nbformat": 4,
 "nbformat_minor": 2
}
