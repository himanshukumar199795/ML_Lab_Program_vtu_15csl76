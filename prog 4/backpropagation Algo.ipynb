{
 "cells": [
  {
   "cell_type": "code",
   "execution_count": 1,
   "metadata": {},
   "outputs": [],
   "source": [
    "import numpy as np\n",
    "\n",
    "x=np.array(([2,9],[1,5],[3,6]),dtype=float)\n",
    "x=x/np.amax(x,axis=0)\n",
    "y=np.array(([92],[86],[89]),dtype=float)\n",
    "y=y/100"
   ]
  },
  {
   "cell_type": "code",
   "execution_count": 2,
   "metadata": {},
   "outputs": [
    {
     "name": "stdout",
     "output_type": "stream",
     "text": [
      "[[0.66666667 1.        ]\n",
      " [0.33333333 0.55555556]\n",
      " [1.         0.66666667]]\n",
      "[[0.92]\n",
      " [0.86]\n",
      " [0.89]]\n",
      "[[0.89525514]\n",
      " [0.87767106]\n",
      " [0.8968956 ]]\n"
     ]
    }
   ],
   "source": [
    "def sigmoid(x):\n",
    "    return 1/(1+np.exp(-x))\n",
    "def dev_sigmoid(x):\n",
    "    return x*(1-x)\n",
    "wh=np.random.uniform(size=(2,3))\n",
    "bh=np.random.uniform(size=(1,3))\n",
    "wout=np.random.uniform(size=(3,1))\n",
    "bout=np.random.uniform(size=(1,1))\n",
    "lr=0.1\n",
    "\n",
    "for i in range(5000):\n",
    "    h1=np.dot(x,wh)\n",
    "    hinp=h1+bh\n",
    "    h_layer=sigmoid(hinp)\n",
    "    \n",
    "    o1=np.dot(h_layer,wout)\n",
    "    oinp=o1+bout\n",
    "    output=sigmoid(oinp)\n",
    "    \n",
    "    eo=y-output\n",
    "    outgrade=dev_sigmoid(output)\n",
    "    d_out=eo*outgrade\n",
    "    \n",
    "    eh=d_out.dot(wout.T)    \n",
    "    h_grad=dev_sigmoid(h_layer)\n",
    "    d_hid=eh*h_grad\n",
    "    \n",
    "    wout +=h_layer.T.dot(d_out)*lr\n",
    "    wh+=x.T.dot(d_hid)*lr\n",
    "    \n",
    "print(str(x))\n",
    "print(str(y))\n",
    "print(output)"
   ]
  },
  {
   "cell_type": "code",
   "execution_count": null,
   "metadata": {},
   "outputs": [],
   "source": []
  }
 ],
 "metadata": {
  "kernelspec": {
   "display_name": "Python 3",
   "language": "python",
   "name": "python3"
  },
  "language_info": {
   "codemirror_mode": {
    "name": "ipython",
    "version": 3
   },
   "file_extension": ".py",
   "mimetype": "text/x-python",
   "name": "python",
   "nbconvert_exporter": "python",
   "pygments_lexer": "ipython3",
   "version": "3.6.8"
  }
 },
 "nbformat": 4,
 "nbformat_minor": 2
}
