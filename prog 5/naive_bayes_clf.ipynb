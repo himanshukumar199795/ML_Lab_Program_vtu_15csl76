{
 "cells": [
  {
   "cell_type": "code",
   "execution_count": 1,
   "metadata": {},
   "outputs": [],
   "source": [
    "import csv\n",
    "import random\n",
    "import numpy as np\n",
    "import pandas as pd\n",
    "import math\n",
    "\n",
    "def mean(numbers):\n",
    "    return sum(numbers) / float(len(numbers) - 1)\n",
    "\n",
    "def stddev(numbers):\n",
    "    avg = mean(numbers)\n",
    "    variance = sum([pow(x - avg, 2) for x in numbers]) / float(len(numbers) - 1)\n",
    "    return math.sqrt(variance)\n",
    "\n",
    "lines = csv.reader(open('P5_naivedata.csv', 'r'))\n",
    "data=list(lines)\n",
    "\n",
    "for i in range(len(data)):\n",
    "    data[i] = [float(x) for x in data[i]]\n",
    "\n",
    "trainset = data[1:750]\n",
    "test = data[750:]\n",
    "\n",
    "seperated = {}\n",
    "for i in range(len(trainset)):\n",
    "    vector = data[i]\n",
    "    if vector[-1] not in seperated:\n",
    "        seperated[vector[-1]] = []\n",
    "    seperated[vector[-1]].append(vector[0:-1])\n",
    "\n",
    "summaries = {}\n",
    "for classvalue, instances in seperated.items():\n",
    "    for attribute in zip(*instances):\n",
    "        summaries[classvalue] =[(mean(attribute), stddev(attribute)) for attribute in zip(*instances)]\n",
    "\n",
    "\n",
    "prediction = []\n",
    "for i in range(len(test)):\n",
    "    probabilities = {}\n",
    "    vector = test[i]\n",
    "    for classvalue, classummary in summaries.items():\n",
    "        probabilities[classvalue] = 1\n",
    "        for j in range(len(classummary)):\n",
    "            smean, sstdev = classummary[j]\n",
    "            x = vector[j]\n",
    "            expo = math.exp(-(math.pow(x - smean, 2)/(2 * math.pow(sstdev, 2))))\n",
    "            probabilities[classvalue] *= (1 / (math.sqrt(2 * math.pi) * sstdev)) * expo\n",
    "        bestlabel, bestprob = None, -1\n",
    "        for classvalue, probability in probabilities.items():\n",
    "            if bestlabel is None or probability > bestprob:\n",
    "                bestprob = probability\n",
    "                bestlabel = classvalue\n",
    "        result = bestprob, bestlabel\n",
    "        prediction.append(result)"
   ]
  },
  {
   "cell_type": "code",
   "execution_count": 6,
   "metadata": {},
   "outputs": [
    {
     "name": "stdout",
     "output_type": "stream",
     "text": [
      "1.0   1.0\n",
      "0.0   1.0\n",
      "0.0   1.0\n",
      "1.0   0.0\n",
      "1.0   1.0\n",
      "1.0   0.0\n",
      "0.0   1.0\n",
      "1.0   1.0\n",
      "0.0   1.0\n",
      "1.0   1.0\n",
      "0.0   1.0\n",
      "1.0   1.0\n",
      "0.0   1.0\n",
      "0.0   1.0\n",
      "0.0   1.0\n",
      "0.0   0.0\n",
      "1.0   1.0\n",
      "0.0   0.0\n",
      "correct: 8\n",
      "Accuracy: 44.44444444444444\n"
     ]
    }
   ],
   "source": [
    "correct = 0\n",
    "for i in range(len(test)):\n",
    "    print(test[i][-1], \" \", prediction[i][-1])\n",
    "    if test[i][-1] == prediction[i][-1]:\n",
    "        correct += 1\n",
    "print(\"correct:\",correct)\n",
    "print('Accuracy: {0}'.format((correct / float(len(test))) * 100))"
   ]
  },
  {
   "cell_type": "code",
   "execution_count": null,
   "metadata": {},
   "outputs": [],
   "source": []
  }
 ],
 "metadata": {
  "kernelspec": {
   "display_name": "Python 3",
   "language": "python",
   "name": "python3"
  },
  "language_info": {
   "codemirror_mode": {
    "name": "ipython",
    "version": 3
   },
   "file_extension": ".py",
   "mimetype": "text/x-python",
   "name": "python",
   "nbconvert_exporter": "python",
   "pygments_lexer": "ipython3",
   "version": "3.6.8"
  }
 },
 "nbformat": 4,
 "nbformat_minor": 2
}
